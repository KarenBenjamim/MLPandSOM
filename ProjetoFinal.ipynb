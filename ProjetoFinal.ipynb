{
 "cells": [
  {
   "cell_type": "markdown",
   "metadata": {},
   "source": [
    "# Bibliotecas"
   ]
  },
  {
   "cell_type": "code",
   "execution_count": 1,
   "metadata": {},
   "outputs": [],
   "source": [
    "import pandas as pd\n",
    "from sklearn.model_selection import train_test_split\n",
    "from sklearn.neural_network import MLPClassifier\n",
    "from sklearn.metrics import classification_report\n",
    "from sklearn.metrics import accuracy_score\n",
    "import matplotlib.pyplot as plt\n",
    "from minisom import MiniSom\n",
    "from sklearn.preprocessing import MinMaxScaler\n",
    "from matplotlib.pylab import pcolor, colorbar, plot\n",
    "import seaborn as sns"
   ]
  },
  {
   "cell_type": "markdown",
   "metadata": {},
   "source": [
    "# Tratamento dos dados"
   ]
  },
  {
   "cell_type": "code",
   "execution_count": 2,
   "metadata": {},
   "outputs": [],
   "source": [
    "new_names = ['buying','maint','doors','persons','lug_boot', 'safety', 'classvalues']\n",
    "dataset = pd.read_csv(\"Dataset\\car.data\", names = new_names, skiprows=0, delimiter=',')"
   ]
  },
  {
   "cell_type": "code",
   "execution_count": 3,
   "metadata": {},
   "outputs": [],
   "source": [
    "for i in range(1728):\n",
    "    if dataset.buying[i] == \"vhigh\":\n",
    "        dataset.buying[i] = 1\n",
    "    if dataset.buying[i] == \"high\":\n",
    "        dataset.buying[i] = 2\n",
    "    if dataset.buying[i] == \"med\":\n",
    "        dataset.buying[i] = 3\n",
    "    if dataset.buying[i] == \"low\":\n",
    "        dataset.buying[i] = 4\n",
    "    if dataset.doors[i] == \"5more\":\n",
    "        dataset.doors[i] = 5\n",
    "    if dataset.persons[i] == \"more\":\n",
    "        dataset.persons[i] = 6\n",
    "    if dataset.lug_boot[i] == \"small\":\n",
    "        dataset.lug_boot[i] = 1\n",
    "    if dataset.lug_boot[i] == \"big\":\n",
    "        dataset.lug_boot[i] = 3\n",
    "    if dataset.lug_boot[i] == \"med\":\n",
    "        dataset.lug_boot[i] = 2\n",
    "    if dataset.safety[i] == \"high\":\n",
    "        dataset.safety[i] = 1\n",
    "    if dataset.safety[i] == \"med\":\n",
    "        dataset.safety[i] = 2\n",
    "    if dataset.safety[i] == \"low\":\n",
    "        dataset.safety[i] = 3\n",
    "    if dataset.maint[i] == \"vhigh\":\n",
    "        dataset.maint[i] = 1\n",
    "    if dataset.maint[i] == \"high\":\n",
    "        dataset.maint[i] = 2\n",
    "    if dataset.maint[i] == \"med\":\n",
    "        dataset.maint[i] = 3\n",
    "    if dataset.maint[i] == \"low\":\n",
    "        dataset.maint[i] = 4\n",
    "    if dataset.classvalues[i] == \"unacc\":\n",
    "        dataset.classvalues[i] = 1\n",
    "    if dataset.classvalues[i] == \"acc\":\n",
    "        dataset.classvalues[i] = 2\n",
    "    if dataset.classvalues[i] == \"good\":\n",
    "        dataset.classvalues[i] = 3\n",
    "    if dataset.classvalues[i] == \"vgood\":\n",
    "        dataset.classvalues[i] = 4\n"
   ]
  },
  {
   "cell_type": "code",
   "execution_count": 4,
   "metadata": {},
   "outputs": [
    {
     "data": {
      "text/html": [
       "<div>\n",
       "<style scoped>\n",
       "    .dataframe tbody tr th:only-of-type {\n",
       "        vertical-align: middle;\n",
       "    }\n",
       "\n",
       "    .dataframe tbody tr th {\n",
       "        vertical-align: top;\n",
       "    }\n",
       "\n",
       "    .dataframe thead th {\n",
       "        text-align: right;\n",
       "    }\n",
       "</style>\n",
       "<table border=\"1\" class=\"dataframe\">\n",
       "  <thead>\n",
       "    <tr style=\"text-align: right;\">\n",
       "      <th></th>\n",
       "      <th>buying</th>\n",
       "      <th>maint</th>\n",
       "      <th>doors</th>\n",
       "      <th>persons</th>\n",
       "      <th>lug_boot</th>\n",
       "      <th>safety</th>\n",
       "      <th>classvalues</th>\n",
       "    </tr>\n",
       "  </thead>\n",
       "  <tbody>\n",
       "    <tr>\n",
       "      <th>0</th>\n",
       "      <td>1</td>\n",
       "      <td>1</td>\n",
       "      <td>2</td>\n",
       "      <td>2</td>\n",
       "      <td>1</td>\n",
       "      <td>3</td>\n",
       "      <td>1</td>\n",
       "    </tr>\n",
       "    <tr>\n",
       "      <th>1</th>\n",
       "      <td>1</td>\n",
       "      <td>1</td>\n",
       "      <td>2</td>\n",
       "      <td>2</td>\n",
       "      <td>1</td>\n",
       "      <td>2</td>\n",
       "      <td>1</td>\n",
       "    </tr>\n",
       "    <tr>\n",
       "      <th>2</th>\n",
       "      <td>1</td>\n",
       "      <td>1</td>\n",
       "      <td>2</td>\n",
       "      <td>2</td>\n",
       "      <td>1</td>\n",
       "      <td>1</td>\n",
       "      <td>1</td>\n",
       "    </tr>\n",
       "    <tr>\n",
       "      <th>3</th>\n",
       "      <td>1</td>\n",
       "      <td>1</td>\n",
       "      <td>2</td>\n",
       "      <td>2</td>\n",
       "      <td>2</td>\n",
       "      <td>3</td>\n",
       "      <td>1</td>\n",
       "    </tr>\n",
       "    <tr>\n",
       "      <th>4</th>\n",
       "      <td>1</td>\n",
       "      <td>1</td>\n",
       "      <td>2</td>\n",
       "      <td>2</td>\n",
       "      <td>2</td>\n",
       "      <td>2</td>\n",
       "      <td>1</td>\n",
       "    </tr>\n",
       "    <tr>\n",
       "      <th>5</th>\n",
       "      <td>1</td>\n",
       "      <td>1</td>\n",
       "      <td>2</td>\n",
       "      <td>2</td>\n",
       "      <td>2</td>\n",
       "      <td>1</td>\n",
       "      <td>1</td>\n",
       "    </tr>\n",
       "    <tr>\n",
       "      <th>6</th>\n",
       "      <td>1</td>\n",
       "      <td>1</td>\n",
       "      <td>2</td>\n",
       "      <td>2</td>\n",
       "      <td>3</td>\n",
       "      <td>3</td>\n",
       "      <td>1</td>\n",
       "    </tr>\n",
       "    <tr>\n",
       "      <th>7</th>\n",
       "      <td>1</td>\n",
       "      <td>1</td>\n",
       "      <td>2</td>\n",
       "      <td>2</td>\n",
       "      <td>3</td>\n",
       "      <td>2</td>\n",
       "      <td>1</td>\n",
       "    </tr>\n",
       "    <tr>\n",
       "      <th>8</th>\n",
       "      <td>1</td>\n",
       "      <td>1</td>\n",
       "      <td>2</td>\n",
       "      <td>2</td>\n",
       "      <td>3</td>\n",
       "      <td>1</td>\n",
       "      <td>1</td>\n",
       "    </tr>\n",
       "    <tr>\n",
       "      <th>9</th>\n",
       "      <td>1</td>\n",
       "      <td>1</td>\n",
       "      <td>2</td>\n",
       "      <td>4</td>\n",
       "      <td>1</td>\n",
       "      <td>3</td>\n",
       "      <td>1</td>\n",
       "    </tr>\n",
       "  </tbody>\n",
       "</table>\n",
       "</div>"
      ],
      "text/plain": [
       "  buying maint doors persons lug_boot safety classvalues\n",
       "0      1     1     2       2        1      3           1\n",
       "1      1     1     2       2        1      2           1\n",
       "2      1     1     2       2        1      1           1\n",
       "3      1     1     2       2        2      3           1\n",
       "4      1     1     2       2        2      2           1\n",
       "5      1     1     2       2        2      1           1\n",
       "6      1     1     2       2        3      3           1\n",
       "7      1     1     2       2        3      2           1\n",
       "8      1     1     2       2        3      1           1\n",
       "9      1     1     2       4        1      3           1"
      ]
     },
     "execution_count": 4,
     "metadata": {},
     "output_type": "execute_result"
    }
   ],
   "source": [
    "dataset.head(10)\n"
   ]
  },
  {
   "cell_type": "code",
   "execution_count": 5,
   "metadata": {},
   "outputs": [],
   "source": [
    "dataset.to_csv('carModificado.data')"
   ]
  },
  {
   "cell_type": "code",
   "execution_count": 22,
   "metadata": {},
   "outputs": [
    {
     "name": "stderr",
     "output_type": "stream",
     "text": [
      "C:\\Users\\milai\\anaconda3\\lib\\site-packages\\seaborn\\_decorators.py:36: FutureWarning: Pass the following variable as a keyword arg: x. From version 0.12, the only valid positional argument will be `data`, and passing other arguments without an explicit keyword will result in an error or misinterpretation.\n",
      "  warnings.warn(\n"
     ]
    },
    {
     "data": {
      "text/plain": [
       "<AxesSubplot:xlabel='classvalues', ylabel='count'>"
      ]
     },
     "execution_count": 22,
     "metadata": {},
     "output_type": "execute_result"
    },
    {
     "data": {
      "image/png": "[encoded data removed]",
      "text/plain": [
       "<Figure size 432x288 with 1 Axes>"
      ]
     },
     "metadata": {
      "needs_background": "light"
     },
     "output_type": "display_data"
    }
   ],
   "source": [
    "sns.countplot(dataset['classvalues'])"
   ]
  },
  {
   "cell_type": "markdown",
   "metadata": {},
   "source": [
    "# MLP"
   ]
  },
  {
   "cell_type": "markdown",
   "metadata": {},
   "source": [
    "## Adaptação dos dados"
   ]
  },
  {
   "cell_type": "code",
   "execution_count": 6,
   "metadata": {},
   "outputs": [
    {
     "data": {
      "text/html": [
       "<div>\n",
       "<style scoped>\n",
       "    .dataframe tbody tr th:only-of-type {\n",
       "        vertical-align: middle;\n",
       "    }\n",
       "\n",
       "    .dataframe tbody tr th {\n",
       "        vertical-align: top;\n",
       "    }\n",
       "\n",
       "    .dataframe thead th {\n",
       "        text-align: right;\n",
       "    }\n",
       "</style>\n",
       "<table border=\"1\" class=\"dataframe\">\n",
       "  <thead>\n",
       "    <tr style=\"text-align: right;\">\n",
       "      <th></th>\n",
       "      <th>Unnamed: 0</th>\n",
       "      <th>buying</th>\n",
       "      <th>maint</th>\n",
       "      <th>doors</th>\n",
       "      <th>persons</th>\n",
       "      <th>lug_boot</th>\n",
       "      <th>safety</th>\n",
       "      <th>classvalues</th>\n",
       "    </tr>\n",
       "  </thead>\n",
       "  <tbody>\n",
       "    <tr>\n",
       "      <th>0</th>\n",
       "      <td>0</td>\n",
       "      <td>1</td>\n",
       "      <td>1</td>\n",
       "      <td>2</td>\n",
       "      <td>2</td>\n",
       "      <td>1</td>\n",
       "      <td>3</td>\n",
       "      <td>1</td>\n",
       "    </tr>\n",
       "    <tr>\n",
       "      <th>1</th>\n",
       "      <td>1</td>\n",
       "      <td>1</td>\n",
       "      <td>1</td>\n",
       "      <td>2</td>\n",
       "      <td>2</td>\n",
       "      <td>1</td>\n",
       "      <td>2</td>\n",
       "      <td>1</td>\n",
       "    </tr>\n",
       "    <tr>\n",
       "      <th>2</th>\n",
       "      <td>2</td>\n",
       "      <td>1</td>\n",
       "      <td>1</td>\n",
       "      <td>2</td>\n",
       "      <td>2</td>\n",
       "      <td>1</td>\n",
       "      <td>1</td>\n",
       "      <td>1</td>\n",
       "    </tr>\n",
       "    <tr>\n",
       "      <th>3</th>\n",
       "      <td>3</td>\n",
       "      <td>1</td>\n",
       "      <td>1</td>\n",
       "      <td>2</td>\n",
       "      <td>2</td>\n",
       "      <td>2</td>\n",
       "      <td>3</td>\n",
       "      <td>1</td>\n",
       "    </tr>\n",
       "    <tr>\n",
       "      <th>4</th>\n",
       "      <td>4</td>\n",
       "      <td>1</td>\n",
       "      <td>1</td>\n",
       "      <td>2</td>\n",
       "      <td>2</td>\n",
       "      <td>2</td>\n",
       "      <td>2</td>\n",
       "      <td>1</td>\n",
       "    </tr>\n",
       "  </tbody>\n",
       "</table>\n",
       "</div>"
      ],
      "text/plain": [
       "   Unnamed: 0  buying  maint  doors  persons  lug_boot  safety  classvalues\n",
       "0           0       1      1      2        2         1       3            1\n",
       "1           1       1      1      2        2         1       2            1\n",
       "2           2       1      1      2        2         1       1            1\n",
       "3           3       1      1      2        2         2       3            1\n",
       "4           4       1      1      2        2         2       2            1"
      ]
     },
     "execution_count": 6,
     "metadata": {},
     "output_type": "execute_result"
    }
   ],
   "source": [
    "dataset = pd.read_csv(\"carModificado.data\")\n",
    "dataset.head()"
   ]
  },
  {
   "cell_type": "code",
   "execution_count": 7,
   "metadata": {},
   "outputs": [
    {
     "data": {
      "text/html": [
       "<div>\n",
       "<style scoped>\n",
       "    .dataframe tbody tr th:only-of-type {\n",
       "        vertical-align: middle;\n",
       "    }\n",
       "\n",
       "    .dataframe tbody tr th {\n",
       "        vertical-align: top;\n",
       "    }\n",
       "\n",
       "    .dataframe thead th {\n",
       "        text-align: right;\n",
       "    }\n",
       "</style>\n",
       "<table border=\"1\" class=\"dataframe\">\n",
       "  <thead>\n",
       "    <tr style=\"text-align: right;\">\n",
       "      <th></th>\n",
       "      <th>buying</th>\n",
       "      <th>maint</th>\n",
       "      <th>doors</th>\n",
       "      <th>persons</th>\n",
       "      <th>lug_boot</th>\n",
       "      <th>safety</th>\n",
       "    </tr>\n",
       "  </thead>\n",
       "  <tbody>\n",
       "    <tr>\n",
       "      <th>0</th>\n",
       "      <td>1</td>\n",
       "      <td>1</td>\n",
       "      <td>2</td>\n",
       "      <td>2</td>\n",
       "      <td>1</td>\n",
       "      <td>3</td>\n",
       "    </tr>\n",
       "    <tr>\n",
       "      <th>1</th>\n",
       "      <td>1</td>\n",
       "      <td>1</td>\n",
       "      <td>2</td>\n",
       "      <td>2</td>\n",
       "      <td>1</td>\n",
       "      <td>2</td>\n",
       "    </tr>\n",
       "    <tr>\n",
       "      <th>2</th>\n",
       "      <td>1</td>\n",
       "      <td>1</td>\n",
       "      <td>2</td>\n",
       "      <td>2</td>\n",
       "      <td>1</td>\n",
       "      <td>1</td>\n",
       "    </tr>\n",
       "    <tr>\n",
       "      <th>3</th>\n",
       "      <td>1</td>\n",
       "      <td>1</td>\n",
       "      <td>2</td>\n",
       "      <td>2</td>\n",
       "      <td>2</td>\n",
       "      <td>3</td>\n",
       "    </tr>\n",
       "    <tr>\n",
       "      <th>4</th>\n",
       "      <td>1</td>\n",
       "      <td>1</td>\n",
       "      <td>2</td>\n",
       "      <td>2</td>\n",
       "      <td>2</td>\n",
       "      <td>2</td>\n",
       "    </tr>\n",
       "  </tbody>\n",
       "</table>\n",
       "</div>"
      ],
      "text/plain": [
       "   buying  maint  doors  persons  lug_boot  safety\n",
       "0       1      1      2        2         1       3\n",
       "1       1      1      2        2         1       2\n",
       "2       1      1      2        2         1       1\n",
       "3       1      1      2        2         2       3\n",
       "4       1      1      2        2         2       2"
      ]
     },
     "execution_count": 7,
     "metadata": {},
     "output_type": "execute_result"
    }
   ],
   "source": [
    "dataset = dataset.drop(['Unnamed: 0'], axis=1)\n",
    "\n",
    "x = dataset.drop(['classvalues'], axis=1)\n",
    "\n",
    "y = dataset['classvalues']\n",
    "\n",
    "x.head()"
   ]
  },
  {
   "cell_type": "markdown",
   "metadata": {},
   "source": [
    "### Variaveis de teste e treinamento"
   ]
  },
  {
   "cell_type": "code",
   "execution_count": 8,
   "metadata": {},
   "outputs": [],
   "source": [
    "x_train, x_test, y_train, y_test = train_test_split(x,y, test_size=0.3) #0.3 data as data test"
   ]
  },
  {
   "cell_type": "markdown",
   "metadata": {},
   "source": [
    "## Criação do modelo"
   ]
  },
  {
   "cell_type": "code",
   "execution_count": 9,
   "metadata": {},
   "outputs": [],
   "source": [
    "Model = MLPClassifier(hidden_layer_sizes=(21,42), activation='relu', max_iter=8000, alpha=0.01,\n",
    "                     solver='adam', verbose=0,  random_state=121) "
   ]
  },
  {
   "cell_type": "code",
   "execution_count": 10,
   "metadata": {},
   "outputs": [
    {
     "name": "stdout",
     "output_type": "stream",
     "text": [
      "              precision    recall  f1-score   support\n",
      "\n",
      "           1       0.98      0.98      0.98       374\n",
      "           2       0.89      0.93      0.91       115\n",
      "           3       0.89      0.67      0.76        12\n",
      "           4       1.00      0.89      0.94        18\n",
      "\n",
      "    accuracy                           0.96       519\n",
      "   macro avg       0.94      0.87      0.90       519\n",
      "weighted avg       0.96      0.96      0.96       519\n",
      "\n",
      "accuracy score:  0.9576107899807321\n"
     ]
    }
   ],
   "source": [
    "h = Model.fit(x_train,y_train)\n",
    "#use our model to predict\n",
    "y_pred=Model.predict(x_test)\n",
    "\n",
    "#agora vou utilizar as funções de classificação estatística\n",
    "\n",
    "print(classification_report(y_test,y_pred)) # Print summary report\n",
    "\n",
    "# Print accuracy score\n",
    "print('accuracy score: ',accuracy_score(y_pred,y_test))"
   ]
  },
  {
   "cell_type": "markdown",
   "metadata": {},
   "source": [
    "## Plots"
   ]
  },
  {
   "cell_type": "code",
   "execution_count": 11,
   "metadata": {},
   "outputs": [
    {
     "data": {
      "text/plain": [
       "<matplotlib.legend.Legend at 0x1eef105fe80>"
      ]
     },
     "execution_count": 11,
     "metadata": {},
     "output_type": "execute_result"
    },
    {
     "data": {
      "image/png": "[encoded data removed]",
      "text/plain": [
       "<Figure size 432x288 with 1 Axes>"
      ]
     },
     "metadata": {
      "needs_background": "light"
     },
     "output_type": "display_data"
    }
   ],
   "source": [
    "plt.plot(h.loss_curve_)\n",
    "plt.title('Historico de Erro')\n",
    "plt.xlabel('Epocas')\n",
    "plt.legend(['Erro'])"
   ]
  },
  {
   "cell_type": "markdown",
   "metadata": {},
   "source": [
    "# Som (Self Organizing Map)"
   ]
  },
  {
   "cell_type": "code",
   "execution_count": 15,
   "metadata": {},
   "outputs": [
    {
     "data": {
      "image/png": "[encoded data removed]",
      "text/plain": [
       "<Figure size 432x288 with 2 Axes>"
      ]
     },
     "metadata": {
      "needs_background": "light"
     },
     "output_type": "display_data"
    }
   ],
   "source": [
    "X = dataset.iloc[:,1:22].values\n",
    "y = dataset.iloc[:,5].values\n",
    "\n",
    "normalizador = MinMaxScaler(feature_range = (0,1))\n",
    "X = normalizador.fit_transform(X)\n",
    "\n",
    "som = MiniSom(x = 14, y = 14, input_len = 6, sigma = 1.0, learning_rate = 0.5, random_seed = 2)\n",
    "som.random_weights_init(X) #Inicialização dos pesos \n",
    "som.train_random(data = X, num_iteration = 20000) #Treinamento\n",
    "\n",
    "\n",
    "q = som.activation_response(X)\n",
    "\n",
    "pcolor(som.distance_map().T) #matiz com os valores de distancias (invertida)\n",
    "# MID - mean inter neuron distance\n",
    "colorbar() #escala da distancia (mais clara)\n",
    "\n",
    "markers = ['o', 's', 'D', 's']\n",
    "color = ['r', 'g', 'b', 'm']\n",
    "\n",
    "for i, x in enumerate(X):\n",
    "    w = som.winner(x)\n",
    "    plot(w[0] + 0.5, w[1] + 0.5, markers[y[i]],\n",
    "         markerfacecolor = 'None', markersize = 10,\n",
    "         markeredgecolor = color[y[i]], markeredgewidth = 2)"
   ]
  },
  {
   "cell_type": "code",
   "execution_count": 16,
   "metadata": {},
   "outputs": [
    {
     "data": {
      "text/plain": [
       "array([[[1.61470727e-01, 1.10964374e-01, 9.96941811e-01, 1.00000000e+00,\n",
       "         9.99999985e-01, 8.62739541e-09],\n",
       "        [2.81358690e-01, 1.08088077e-02, 5.09755389e-01, 9.99951000e-01,\n",
       "         9.99901194e-01, 6.60924011e-08],\n",
       "        [1.69306367e-02, 1.51194761e-01, 1.75597681e-02, 9.92056017e-01,\n",
       "         9.92127680e-01, 3.53646968e-07],\n",
       "        ...,\n",
       "        [8.04684755e-01, 9.11656840e-01, 2.21156100e-03, 5.00098778e-01,\n",
       "         9.94106204e-01, 3.23973792e-28],\n",
       "        [8.46064117e-01, 8.76100695e-01, 9.33759572e-09, 5.07146008e-01,\n",
       "         5.00976253e-01, 5.20455133e-33],\n",
       "        [7.83149790e-01, 8.52812657e-01, 2.32289919e-15, 5.06189189e-01,\n",
       "         7.15297246e-03, 1.81142002e-35]],\n",
       "\n",
       "       [[1.61582766e-01, 8.55127294e-01, 9.97776154e-01, 1.00000000e+00,\n",
       "         9.96295002e-01, 2.39650846e-03],\n",
       "        [1.99634355e-01, 3.54990022e-01, 5.16621696e-01, 9.99999274e-01,\n",
       "         9.85263076e-01, 2.56987147e-03],\n",
       "        [1.28177684e-01, 2.05530242e-01, 4.69410577e-01, 9.99527544e-01,\n",
       "         5.19246979e-01, 5.60721510e-03],\n",
       "        ...,\n",
       "        [8.78149864e-01, 9.06629707e-01, 2.28304888e-01, 7.27506786e-01,\n",
       "         8.69254555e-01, 3.05783860e-20],\n",
       "        [9.19036625e-01, 9.91474652e-01, 2.36682722e-05, 9.94798498e-01,\n",
       "         5.00849392e-01, 4.61958006e-30],\n",
       "        [7.50119001e-01, 9.31593815e-01, 4.00292424e-10, 9.93565166e-01,\n",
       "         1.48862970e-02, 6.02496438e-36]],\n",
       "\n",
       "       [[2.01736041e-01, 7.97048490e-01, 9.93852396e-01, 9.99999990e-01,\n",
       "         5.05570325e-01, 3.06812360e-01],\n",
       "        [1.41381690e-01, 8.00958908e-01, 5.10766289e-01, 9.99999974e-01,\n",
       "         4.99634939e-01, 1.11520673e-01],\n",
       "        [1.90671738e-01, 2.61940895e-01, 4.99734112e-01, 9.80126921e-01,\n",
       "         5.00088566e-01, 3.08702672e-01],\n",
       "        ...,\n",
       "        [7.75363276e-01, 9.82701751e-01, 5.10941609e-01, 9.89571790e-01,\n",
       "         9.99660352e-01, 1.19763984e-23],\n",
       "        [7.82611987e-01, 7.50017180e-01, 6.58962368e-03, 9.99999968e-01,\n",
       "         9.87158462e-01, 5.69424015e-36],\n",
       "        [9.90243496e-01, 4.34675383e-01, 1.05627639e-04, 9.99999922e-01,\n",
       "         5.08495310e-01, 2.74583036e-31]],\n",
       "\n",
       "       ...,\n",
       "\n",
       "       [[8.18272193e-01, 8.99644641e-01, 4.97363786e-01, 5.02732673e-01,\n",
       "         5.02602137e-01, 4.21966240e-01],\n",
       "        [7.43642315e-01, 6.98388082e-01, 4.74113348e-01, 9.47147096e-01,\n",
       "         5.11198951e-01, 3.20743563e-01],\n",
       "        [7.50223709e-01, 9.79474140e-01, 4.95551638e-01, 9.86180547e-01,\n",
       "         5.04135636e-01, 3.31676072e-01],\n",
       "        ...,\n",
       "        [1.46606982e-01, 7.90761783e-01, 4.62102501e-01, 4.94870522e-01,\n",
       "         6.08450298e-02, 2.60040849e-02],\n",
       "        [1.41653837e-01, 8.09198818e-01, 4.96061040e-01, 9.95855400e-01,\n",
       "         1.05651942e-04, 1.56595816e-01],\n",
       "        [2.05364065e-01, 8.78348572e-01, 1.01393745e-02, 9.89354550e-01,\n",
       "         5.03386346e-03, 3.26791725e-03]],\n",
       "\n",
       "       [[1.43351429e-01, 9.90059657e-01, 8.47911583e-03, 4.99951068e-01,\n",
       "         9.91520880e-01, 7.19529497e-03],\n",
       "        [4.25120420e-01, 6.68254891e-01, 1.45644909e-03, 4.97409473e-01,\n",
       "         9.98543493e-01, 9.90968703e-04],\n",
       "        [3.25099747e-01, 3.60887039e-01, 2.82570603e-02, 4.67832476e-01,\n",
       "         9.33526260e-01, 1.95020011e-02],\n",
       "        ...,\n",
       "        [3.14631583e-01, 8.93846308e-01, 5.16314202e-01, 2.45785291e-02,\n",
       "         1.44060791e-04, 3.06265227e-01],\n",
       "        [1.33904432e-01, 9.04400519e-01, 4.86304988e-01, 4.98325573e-01,\n",
       "         3.37562544e-09, 2.85333957e-01],\n",
       "        [2.04470932e-01, 7.71886304e-01, 2.44802464e-03, 4.98844271e-01,\n",
       "         1.07570895e-08, 1.44979925e-03]],\n",
       "\n",
       "       [[4.08201926e-03, 5.48429659e-01, 1.08337637e-07, 4.89972159e-01,\n",
       "         9.99999892e-01, 8.75772517e-08],\n",
       "        [3.14508636e-02, 6.06391823e-01, 2.97795985e-08, 1.45697758e-02,\n",
       "         9.99999898e-01, 2.00744864e-08],\n",
       "        [1.61739176e-01, 6.48061360e-02, 1.48323578e-08, 2.98651472e-03,\n",
       "         9.96059526e-01, 9.86983238e-09],\n",
       "        ...,\n",
       "        [1.16130200e-01, 8.88550913e-01, 9.88248029e-01, 4.88290081e-01,\n",
       "         5.86718633e-09, 2.57795292e-01],\n",
       "        [7.12395449e-03, 8.43735648e-01, 4.97416024e-01, 1.21183415e-02,\n",
       "         1.04791848e-11, 1.85615274e-01],\n",
       "        [1.64301584e-01, 8.54864422e-01, 4.82587593e-03, 8.28952899e-03,\n",
       "         2.15992797e-16, 1.86023638e-03]]])"
      ]
     },
     "execution_count": 16,
     "metadata": {},
     "output_type": "execute_result"
    }
   ],
   "source": [
    "som._weights # pesos do som"
   ]
  },
  {
   "cell_type": "code",
   "execution_count": 17,
   "metadata": {},
   "outputs": [
    {
     "data": {
      "text/plain": [
       "array([[1.86909737, 1.93263721, 2.15324505, 1.97704731, 2.21098685,\n",
       "        2.03235822, 2.10960833, 1.98719098, 2.13138973, 1.96514058,\n",
       "        1.63385538, 1.81098943, 1.591518  , 1.5207197 ],\n",
       "       [1.6467401 , 1.80440788, 1.71207948, 1.87816251, 1.90802948,\n",
       "        1.87795284, 1.88977236, 1.8201971 , 1.98612391, 1.80207257,\n",
       "        1.58554068, 1.5649073 , 1.5024838 , 1.43783967],\n",
       "       [1.18935399, 1.43360489, 1.47593528, 1.83909833, 1.71951269,\n",
       "        1.94797964, 1.92202877, 2.02946574, 1.83930653, 1.74303349,\n",
       "        1.50617997, 1.51306595, 1.75245398, 1.60562865],\n",
       "       [1.25193067, 1.31238784, 1.44208044, 1.67849393, 1.65320845,\n",
       "        1.74419085, 2.05896466, 2.13686238, 1.93114635, 1.77882005,\n",
       "        1.54696577, 1.44125667, 1.55408408, 1.96883849],\n",
       "       [1.40098564, 1.58298923, 1.62646468, 1.83448962, 1.67812593,\n",
       "        1.74422298, 1.76090044, 1.70616678, 2.05471232, 1.89429103,\n",
       "        1.73042779, 1.67030441, 1.69457651, 1.76322122],\n",
       "       [1.6953294 , 1.55561123, 1.41218267, 1.41702985, 1.21479259,\n",
       "        1.24338734, 1.51285376, 1.75864942, 2.11577938, 2.02316181,\n",
       "        1.84959677, 1.67807697, 1.79768551, 2.01955407],\n",
       "       [1.48156809, 1.07007604, 1.09446913, 1.06989342, 1.17926905,\n",
       "        1.21184084, 1.47025422, 1.84988831, 2.04970188, 2.1135295 ,\n",
       "        1.98244527, 1.72238205, 1.73852661, 1.75179441],\n",
       "       [1.11477919, 0.82833845, 0.79671923, 1.05066925, 1.10855246,\n",
       "        1.17785491, 1.71041647, 1.80615672, 1.92770703, 1.93422427,\n",
       "        1.82521069, 1.67160596, 1.81897603, 1.70180224],\n",
       "       [0.89572724, 0.63678237, 0.18853668, 0.60871464, 0.85259305,\n",
       "        1.43579213, 1.36388852, 1.52897048, 1.57662666, 1.88230289,\n",
       "        1.79951065, 1.31203022, 1.63189055, 1.91315947],\n",
       "       [0.86598106, 0.59634376, 0.55481841, 0.78942676, 0.56621725,\n",
       "        1.14482163, 1.17351984, 1.18055368, 1.45548699, 1.47154016,\n",
       "        1.54011021, 1.4582048 , 1.57374115, 1.71608577],\n",
       "       [0.68203087, 0.85472417, 0.78106684, 0.97538312, 1.28104861,\n",
       "        0.99522816, 1.34163492, 1.31281097, 1.48705518, 1.52511137,\n",
       "        1.71039246, 1.79576219, 1.55543202, 1.70725265],\n",
       "       [1.06289514, 1.07645385, 1.00909774, 1.40048008, 1.65381396,\n",
       "        1.51554338, 1.74648608, 1.55382402, 1.50265206, 1.72065114,\n",
       "        1.86632234, 1.50629345, 1.31850882, 1.61854345],\n",
       "       [1.983906  , 1.91972289, 1.98098207, 2.03635512, 1.96222879,\n",
       "        1.84600442, 1.87037765, 1.62333084, 1.68983537, 1.5839893 ,\n",
       "        1.5198856 , 1.46549153, 1.33625153, 1.71121941],\n",
       "       [2.11089938, 2.25035269, 2.35869438, 2.21868818, 2.08815843,\n",
       "        2.1836634 , 2.03677749, 1.7569559 , 1.88985371, 1.61720711,\n",
       "        1.47545763, 1.26747769, 1.70350952, 1.92083325]])"
      ]
     },
     "execution_count": 17,
     "metadata": {},
     "output_type": "execute_result"
    }
   ],
   "source": [
    "som._activation_map #valores mapa autorganizavel "
   ]
  },
  {
   "cell_type": "code",
   "execution_count": 19,
   "metadata": {},
   "outputs": [
    {
     "data": {
      "text/plain": [
       "array([[16.,  8.,  8., 12.,  8., 16.,  8., 16.,  8., 16.,  8., 12., 16.,\n",
       "        16.],\n",
       "       [16.,  8.,  6., 16.,  8.,  8.,  8., 12.,  8.,  8.,  8.,  0.,  8.,\n",
       "        16.],\n",
       "       [16., 16., 10., 11.,  0., 12.,  4.,  8.,  8.,  8.,  8.,  8., 16.,\n",
       "        12.],\n",
       "       [ 7.,  7.,  0.,  0.,  8., 16.,  8., 16.,  8.,  8.,  8., 16.,  8.,\n",
       "        12.],\n",
       "       [16.,  8.,  8., 16.,  8., 12.,  8.,  8.,  8., 16.,  8., 16.,  8.,\n",
       "         8.],\n",
       "       [ 8., 16.,  6.,  6.,  4., 16., 12.,  8., 16.,  8.,  8.,  4., 16.,\n",
       "        12.],\n",
       "       [ 8., 16.,  8.,  0.,  4., 13.,  0.,  8.,  8.,  8.,  8.,  8.,  8.,\n",
       "         8.],\n",
       "       [10.,  9.,  9., 10.,  3.,  9.,  8.,  8., 16.,  8.,  4.,  8., 12.,\n",
       "         8.],\n",
       "       [14.,  7.,  6.,  7.,  5.,  8.,  8.,  8.,  8.,  8.,  8.,  8.,  0.,\n",
       "        16.],\n",
       "       [ 8.,  0.,  9., 10.,  9.,  6.,  8.,  8.,  8.,  8.,  0.,  8.,  8.,\n",
       "         8.],\n",
       "       [ 8.,  8.,  6.,  3.,  9.,  8.,  6.,  4.,  8.,  5.,  0., 16.,  0.,\n",
       "         8.],\n",
       "       [13.,  5.,  5.,  9., 12.,  0., 16.,  0.,  5.,  6.,  8.,  6., 14.,\n",
       "        16.],\n",
       "       [ 8.,  8.,  4.,  8.,  8.,  8.,  4., 11.,  8.,  8.,  8.,  8.,  6.,\n",
       "        16.],\n",
       "       [ 8., 12., 12.,  8.,  0.,  8.,  8., 13.,  8.,  8., 10., 11.,  8.,\n",
       "        16.]])"
      ]
     },
     "execution_count": 19,
     "metadata": {},
     "output_type": "execute_result"
    }
   ],
   "source": [
    "q #vezes que os neuronios foram acessados bmu"
   ]
  }
 ],
 "metadata": {
  "interpreter": {
   "hash": "b8645fbfce26682afa8ae988b2aa9b465be158772e4b8b87182a91813a7b2341"
  },
  "kernelspec": {
   "display_name": "Python 3.8.5 64-bit ('base': conda)",
   "language": "python",
   "name": "python3"
  },
  "language_info": {
   "codemirror_mode": {
    "name": "ipython",
    "version": 3
   },
   "file_extension": ".py",
   "mimetype": "text/x-python",
   "name": "python",
   "nbconvert_exporter": "python",
   "pygments_lexer": "ipython3",
   "version": "3.8.5"
  },
  "orig_nbformat": 4
 },
 "nbformat": 4,
 "nbformat_minor": 2
}
